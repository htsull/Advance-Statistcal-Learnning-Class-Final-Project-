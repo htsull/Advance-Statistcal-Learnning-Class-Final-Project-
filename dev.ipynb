{
 "cells": [
  {
   "cell_type": "code",
   "execution_count": 1,
   "metadata": {},
   "outputs": [],
   "source": [
    "import pandas as pd\n",
    "import numpy as np\n",
    "import matplotlib.pyplot as plt\n",
    "import seaborn as sns"
   ]
  },
  {
   "cell_type": "code",
   "execution_count": 5,
   "metadata": {},
   "outputs": [
    {
     "name": "stdout",
     "output_type": "stream",
     "text": [
      "Data shape: (5000, 23)\n"
     ]
    }
   ],
   "source": [
    "# loading data\n",
    "data = pd.read_csv(r'https://raw.githubusercontent.com/htsull/Adv-Stat-Learn-Final-Project/main/data/DataBank.csv?token=GHSAT0AAAAAABVOXRBBUL53WJLAKAXZK464YWANSDQ')\n",
    "print('Data shape:', data.shape)"
   ]
  },
  {
   "cell_type": "code",
   "execution_count": 6,
   "metadata": {},
   "outputs": [
    {
     "name": "stdout",
     "output_type": "stream",
     "text": [
      "<class 'pandas.core.frame.DataFrame'>\n",
      "RangeIndex: 5000 entries, 0 to 4999\n",
      "Data columns (total 23 columns):\n",
      " #   Column                       Non-Null Count  Dtype \n",
      "---  ------                       --------------  ----- \n",
      " 0   Customer_ID                  5000 non-null   int64 \n",
      " 1   Status_Checking_Acc          5000 non-null   object\n",
      " 2   Duration_in_Months           5000 non-null   int64 \n",
      " 3   Credit_History               5000 non-null   object\n",
      " 4   Purposre_Credit_Taken        5000 non-null   object\n",
      " 5   Credit_Amount                5000 non-null   int64 \n",
      " 6   Savings_Acc                  5000 non-null   object\n",
      " 7   Years_At_Present_Employment  5000 non-null   object\n",
      " 8   Inst_Rt_Income               5000 non-null   int64 \n",
      " 9   Marital_Status_Gender        5000 non-null   object\n",
      " 10  Other_Debtors_Guarantors     5000 non-null   object\n",
      " 11  Current_Address_Yrs          5000 non-null   int64 \n",
      " 12  Property                     5000 non-null   object\n",
      " 13  Age                          5000 non-null   int64 \n",
      " 14  Other_Inst_Plans             5000 non-null   object\n",
      " 15  Housing                      5000 non-null   object\n",
      " 16  Num_CC                       5000 non-null   int64 \n",
      " 17  Job                          5000 non-null   object\n",
      " 18  Dependents                   5000 non-null   int64 \n",
      " 19  Telephone                    5000 non-null   object\n",
      " 20  Foreign_Worker               5000 non-null   object\n",
      " 21  Default_On_Payment           5000 non-null   int64 \n",
      " 22  Count                        5000 non-null   int64 \n",
      "dtypes: int64(10), object(13)\n",
      "memory usage: 898.6+ KB\n"
     ]
    }
   ],
   "source": [
    "data.info()"
   ]
  },
  {
   "cell_type": "code",
   "execution_count": null,
   "metadata": {},
   "outputs": [],
   "source": [
    "data.drop(['Customer_ID', 'Count'], axis=1, inplace=True)"
   ]
  },
  {
   "cell_type": "code",
   "execution_count": 25,
   "metadata": {},
   "outputs": [
    {
     "data": {
      "text/plain": [
       "Index(['Status_Checking_Acc', 'Duration_in_Months', 'Credit_History',\n",
       "       'Purposre_Credit_Taken', 'Credit_Amount', 'Savings_Acc',\n",
       "       'Years_At_Present_Employment', 'Inst_Rt_Income',\n",
       "       'Marital_Status_Gender', 'Other_Debtors_Guarantors',\n",
       "       'Current_Address_Yrs', 'Property', 'Age', 'Other_Inst_Plans ',\n",
       "       'Housing', 'Num_CC', 'Job', 'Dependents', 'Telephone', 'Foreign_Worker',\n",
       "       'Default_On_Payment'],\n",
       "      dtype='object')"
      ]
     },
     "execution_count": 25,
     "metadata": {},
     "output_type": "execute_result"
    }
   ],
   "source": [
    "data.columns"
   ]
  },
  {
   "cell_type": "code",
   "execution_count": 36,
   "metadata": {},
   "outputs": [],
   "source": [
    "import pandas as pd \n",
    "import numpy as np \n",
    "import seaborn as sns\n",
    "import matplotlib.pyplot as plt\n",
    "%matplotlib inline\n",
    "import warnings \n",
    "warnings.filterwarnings(\"ignore\", category=FutureWarning)\n",
    "from sklearn.model_selection import train_test_split\n",
    "from sklearn.neighbors import KNeighborsClassifier\n",
    "from sklearn.metrics import accuracy_score, plot_confusion_matrix, classification_report, f1_score, roc_auc_score, roc_curve\n",
    "from sklearn.model_selection import GridSearchCV, cross_val_score\n",
    "from sklearn.preprocessing import normalize\n",
    "from sklearn.discriminant_analysis import LinearDiscriminantAnalysis\n",
    "from sklearn.linear_model import LogisticRegression\n",
    "from sklearn.svm import SVC\n",
    "from collections import Counter\n",
    "from sklearn.ensemble import RandomForestClassifier\n",
    "from sklearn.discriminant_analysis import LinearDiscriminantAnalysis\n",
    "from sklearn.neighbors import KNeighborsClassifier\n",
    "from sklearn.ensemble import GradientBoostingClassifier"
   ]
  },
  {
   "cell_type": "code",
   "execution_count": 26,
   "metadata": {},
   "outputs": [
    {
     "data": {
      "text/plain": [
       "((5000, 20), (5000,))"
      ]
     },
     "execution_count": 26,
     "metadata": {},
     "output_type": "execute_result"
    }
   ],
   "source": [
    "y = data.Default_On_Payment\n",
    "X = data.drop(columns='Default_On_Payment')\n",
    "X.shape, y.shape"
   ]
  },
  {
   "cell_type": "code",
   "execution_count": 28,
   "metadata": {},
   "outputs": [],
   "source": [
    "# hot encoding of the features\n",
    "X = pd.get_dummies(data.astype(str))\n",
    "# Normalizing the data\n",
    "X = normalize(X.values)\n",
    "# Splitting the data for training and test purpose\n",
    "X_train, X_test, y_train, y_test = train_test_split(X, y, random_state=42, test_size= .3)"
   ]
  },
  {
   "cell_type": "code",
   "execution_count": 30,
   "metadata": {},
   "outputs": [
    {
     "data": {
      "text/plain": [
       "((3500, 1077), (3500,), (1500, 1077), (1500,))"
      ]
     },
     "execution_count": 30,
     "metadata": {},
     "output_type": "execute_result"
    }
   ],
   "source": [
    "X_train.shape, y_train.shape, X_test.shape, y_test.shape"
   ]
  },
  {
   "cell_type": "code",
   "execution_count": 50,
   "metadata": {},
   "outputs": [],
   "source": [
    "from helper import model_accuracy"
   ]
  },
  {
   "cell_type": "code",
   "execution_count": 54,
   "metadata": {},
   "outputs": [],
   "source": [
    "def model_accuracy(model):\n",
    "    \"\"\"Perform the fitting, print out the accuracy, classification report and confusion matrix with the given model\n",
    "\n",
    "    Args:\n",
    "        model(string) : model to perform. 'rf' : random forest, 'xgb' : XGBoost, 'knn' : K-Nearest Neighbors.\n",
    "\n",
    "    Returns:\n",
    "        classifier: model fit to the train set.\n",
    "    \"\"\"\n",
    "    if model == 'rf':\n",
    "        print(\"Random forest model\")\n",
    "        # fitting \n",
    "        model_rf = RandomForestClassifier(random_state=42).fit(X_train, y_train)\n",
    "        # Predictions (test)\n",
    "        predictions_test = model_rf.predict(X_test)\n",
    "        model_rf_score = model_rf.score(X_test, y_test)\n",
    "        print('Base model accuracy  : {:04.3f}'.format(model_rf_score))\n",
    "        print(\"=========================================================================\")\n",
    "        print(\"Classification report : \")\n",
    "        print(classification_report(y_test, predictions_test, digits=3, zero_division = 1)),\n",
    "        disp = plot_confusion_matrix(model_rf, X_test, y_test, cmap='Reds', values_format='d',\n",
    "                                    #  display_labels=labels_disp,\n",
    "                                    xticks_rotation= 'vertical')\n",
    "        print(\"=========================================================================\")\n",
    "        print(\"Confusion matrix : \")\n",
    "        return model_rf\n",
    "    \n",
    "    elif model == 'xgb':\n",
    "        print(\"Extreme gradient boosting model\")\n",
    "        # fitting \n",
    "        model_xgb = GradientBoostingClassifier().fit(X_train, y_train)\n",
    "        print(\"=========================================================================\")\n",
    "        model_xgb_score = model_xgb.score(X_test, y_test)\n",
    "        print(\"Fitting to the train set : {:04.2f}\".format(model_xgb_score))\n",
    "        # Predictions (test)\n",
    "        print(\"=========================================================================\")\n",
    "        predictions_test = model_xgb.predict(X_test)\n",
    "        print('Base model accuracy  : {:04.3f}'.format(model_xgb.score(X_test, y_test)))\n",
    "        print(\"=========================================================================\")\n",
    "        print(\"Classification report : \")\n",
    "        print(classification_report(y_test, predictions_test, digits=3, zero_division = 1)),\n",
    "        disp = plot_confusion_matrix(model_xgb, X_test, y_test, cmap='Reds', values_format='d',\n",
    "                                    #  display_labels=labels_disp,\n",
    "                                    xticks_rotation= 'vertical')\n",
    "        print(\"=========================================================================\")\n",
    "        print(\"Confusion matrix : \")\n",
    "        return model_xgb\n",
    "    \n",
    "    elif model == 'knn':\n",
    "        print(\"K-Nearest Neighbors model\")\n",
    "        # fitting \n",
    "        model_knn = KNeighborsClassifier().fit(X_train, y_train)\n",
    "        predictions_test = model_knn.predict(X_test)\n",
    "        model_knn_score = model_knn.score(X_test, y_test)\n",
    "        print(\"=========================================================================\")\n",
    "        print(\"Fitting to the train set : {:04.2f}\".format(model_knn_score))\n",
    "        # Predictions (test)\n",
    "        print(\"=========================================================================\")\n",
    "        print('Base model accuracy  : {:04.3f}'.format(model_knn_score))\n",
    "        print(\"=========================================================================\")\n",
    "        print(\"Classification report : \")\n",
    "        print(classification_report(y_test, predictions_test, digits=3, zero_division = 1)),\n",
    "        disp = plot_confusion_matrix(model_knn, X_test, y_test, cmap='Reds', values_format='d',\n",
    "                                    #  display_labels=labels_disp,\n",
    "                                    xticks_rotation= 'vertical')\n",
    "        print(\"=========================================================================\")\n",
    "        print(\"Confusion matrix : \")\n",
    "        return model_knn\n",
    "    \n",
    "    elif model == 'lda':\n",
    "        print(\"Linear Discriminant Ananlysis model (LDA)\")\n",
    "        # fitting \n",
    "        model_lda = LinearDiscriminantAnalysis().fit(X_train, y_train)\n",
    "        predictions_test = model_lda.predict(X_test)\n",
    "        model_lda_score = model_lda.score(X_test, y_test)\n",
    "        print('Base model accuracy  : {:04.3f}'.format(model_lda_score))\n",
    "        print(\"=========================================================================\")\n",
    "        print(\"Classification report : \")\n",
    "        print(classification_report(y_test, predictions_test, digits=3, zero_division = 1)),\n",
    "        disp = plot_confusion_matrix(model_lda, X_test, y_test, cmap='Reds', values_format='d',\n",
    "                                    #  display_labels=labels_disp,\n",
    "                                    xticks_rotation= 'vertical');\n",
    "        print(\"=========================================================================\")\n",
    "        print(\"Confusion matrix : \")\n",
    "        return model_lda\n",
    "    \n",
    "    else :\n",
    "        print(\"Enter a valid choice.\")"
   ]
  },
  {
   "cell_type": "code",
   "execution_count": 53,
   "metadata": {},
   "outputs": [
    {
     "name": "stdout",
     "output_type": "stream",
     "text": [
      "Extreme gradient boosting model\n",
      "=========================================================================\n",
      "Fitting to the train set : 1.00\n",
      "=========================================================================\n",
      "Base model accuracy  : 1.000\n",
      "=========================================================================\n",
      "Classification report : \n",
      "              precision    recall  f1-score   support\n",
      "\n",
      "           0      1.000     1.000     1.000      1039\n",
      "           1      1.000     1.000     1.000       461\n",
      "\n",
      "    accuracy                          1.000      1500\n",
      "   macro avg      1.000     1.000     1.000      1500\n",
      "weighted avg      1.000     1.000     1.000      1500\n",
      "\n",
      "=========================================================================\n",
      "Confusion matrix : \n"
     ]
    },
    {
     "data": {
      "image/png": "[encoded data removed]",
      "text/plain": [
       "<Figure size 432x288 with 2 Axes>"
      ]
     },
     "metadata": {
      "needs_background": "light"
     },
     "output_type": "display_data"
    }
   ],
   "source": [
    "model_XGB = model_accuracy('xgb')"
   ]
  },
  {
   "cell_type": "code",
   "execution_count": 55,
   "metadata": {},
   "outputs": [
    {
     "name": "stdout",
     "output_type": "stream",
     "text": [
      "K-Nearest Neighbors model\n",
      "=========================================================================\n",
      "Fitting to the train set : 0.98\n",
      "=========================================================================\n",
      "Base model accuracy  : 0.978\n",
      "=========================================================================\n",
      "Classification report : \n",
      "              precision    recall  f1-score   support\n",
      "\n",
      "           0      0.977     0.991     0.984      1039\n",
      "           1      0.980     0.948     0.964       461\n",
      "\n",
      "    accuracy                          0.978      1500\n",
      "   macro avg      0.979     0.970     0.974      1500\n",
      "weighted avg      0.978     0.978     0.978      1500\n",
      "\n",
      "=========================================================================\n",
      "Confusion matrix : \n"
     ]
    },
    {
     "data": {
      "image/png": "[encoded data removed]",
      "text/plain": [
       "<Figure size 432x288 with 2 Axes>"
      ]
     },
     "metadata": {
      "needs_background": "light"
     },
     "output_type": "display_data"
    }
   ],
   "source": [
    "model_knn = model_accuracy('knn')"
   ]
  },
  {
   "cell_type": "code",
   "execution_count": 42,
   "metadata": {},
   "outputs": [
    {
     "name": "stdout",
     "output_type": "stream",
     "text": [
      "Random forest model\n",
      "Base model accuracy  : 1.000\n",
      "=========================================================================\n",
      "Classification report : \n",
      "              precision    recall  f1-score   support\n",
      "\n",
      "           0      1.000     1.000     1.000      1039\n",
      "           1      1.000     1.000     1.000       461\n",
      "\n",
      "    accuracy                          1.000      1500\n",
      "   macro avg      1.000     1.000     1.000      1500\n",
      "weighted avg      1.000     1.000     1.000      1500\n",
      "\n",
      "=========================================================================\n",
      "Confusion matrix : \n"
     ]
    },
    {
     "data": {
      "image/png": "[encoded data removed]",
      "text/plain": [
       "<Figure size 432x288 with 2 Axes>"
      ]
     },
     "metadata": {
      "needs_background": "light"
     },
     "output_type": "display_data"
    }
   ],
   "source": [
    "model_rf = model_accuracy('rf')"
   ]
  },
  {
   "cell_type": "code",
   "execution_count": 46,
   "metadata": {},
   "outputs": [
    {
     "name": "stdout",
     "output_type": "stream",
     "text": [
      "Linear Discriminant Ananlysis model (LDA)\n",
      "Base model accuracy  : 1.000\n",
      "=========================================================================\n",
      "Classification report : \n",
      "              precision    recall  f1-score   support\n",
      "\n",
      "           0      1.000     1.000     1.000      1039\n",
      "           1      1.000     1.000     1.000       461\n",
      "\n",
      "    accuracy                          1.000      1500\n",
      "   macro avg      1.000     1.000     1.000      1500\n",
      "weighted avg      1.000     1.000     1.000      1500\n",
      "\n",
      "=========================================================================\n",
      "Confusion matrix : \n"
     ]
    },
    {
     "data": {
      "image/png": "[encoded data removed]",
      "text/plain": [
       "<Figure size 432x288 with 2 Axes>"
      ]
     },
     "metadata": {
      "needs_background": "light"
     },
     "output_type": "display_data"
    }
   ],
   "source": [
    "model_lda = model_accuracy('lda')"
   ]
  }
 ],
 "metadata": {
  "interpreter": {
   "hash": "c68cb00b8f86c741807e8ce8dcd8d0cfb3582e9e0e8fb321ae1b28fc8719db20"
  },
  "kernelspec": {
   "display_name": "Python 3.8.8 ('base')",
   "language": "python",
   "name": "python3"
  },
  "language_info": {
   "codemirror_mode": {
    "name": "ipython",
    "version": 3
   },
   "file_extension": ".py",
   "mimetype": "text/x-python",
   "name": "python",
   "nbconvert_exporter": "python",
   "pygments_lexer": "ipython3",
   "version": "3.8.8"
  },
  "orig_nbformat": 4
 },
 "nbformat": 4,
 "nbformat_minor": 2
}
